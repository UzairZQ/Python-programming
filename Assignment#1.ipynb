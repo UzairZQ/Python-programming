{
 "cells": [
  {
   "cell_type": "code",
   "execution_count": 7,
   "id": "cf44a104",
   "metadata": {},
   "outputs": [
    {
     "name": "stdout",
     "output_type": "stream",
     "text": [
      "Twinkle , twinkle, little                            \n",
      "            How I wonder what you are!\n",
      "                             up above the world so high,\n",
      "                             Like a diamond in the sky.\n",
      "          Twinkle , twinkle , little star,\n",
      "                    How I wonder what you are\n"
     ]
    }
   ],
   "source": [
    "poem = '''Twinkle , twinkle, little                            \n",
    "            How I wonder what you are!\n",
    "                             up above the world so high,                 //By Uzair Assignment1\n",
    "                             Like a diamond in the sky.\n",
    "          Twinkle , twinkle , little star,\n",
    "                    How I wonder what you are'''\n",
    "print(poem)\n",
    "\n",
    "                    "
   ]
  },
  {
   "cell_type": "code",
   "execution_count": 8,
   "id": "fece48fa",
   "metadata": {},
   "outputs": [
    {
     "name": "stdout",
     "output_type": "stream",
     "text": [
      "3.7.10\n"
     ]
    }
   ],
   "source": [
    "from platform import python_version \n",
    "print(python_version())"
   ]
  },
  {
   "cell_type": "code",
   "execution_count": 16,
   "id": "6108e143",
   "metadata": {},
   "outputs": [
    {
     "name": "stdout",
     "output_type": "stream",
     "text": [
      "What is the radius of the cirlce?\n",
      "5.5\n",
      "The Area of cirlce is: 94.985\n"
     ]
    }
   ],
   "source": [
    "print(\"What is the radius of the cirlce?\")\n",
    "radius = float(input())\n",
    "Area = 3.14*(radius*radius)\n",
    "print (\"The Area of cirlce is:\", Area)\n"
   ]
  },
  {
   "cell_type": "code",
   "execution_count": 18,
   "id": "0cc3767d",
   "metadata": {},
   "outputs": [
    {
     "name": "stdout",
     "output_type": "stream",
     "text": [
      "What is your first name?Uzair\n",
      "What is your last name?Qureshi\n",
      "Your name in reverse order is:Qureshi Uzair\n"
     ]
    }
   ],
   "source": [
    "First_name = input(\"What is your first name?\")\n",
    "Last_name = input (\"What is your last name?\")\n",
    "print(\"Your name in reverse order is:\" + Last_name +' '+ First_name)\n",
    "\n"
   ]
  },
  {
   "cell_type": "code",
   "execution_count": 19,
   "id": "032a1c66",
   "metadata": {},
   "outputs": [
    {
     "name": "stdout",
     "output_type": "stream",
     "text": [
      "Enter first number:14\n",
      "Enter second number:43\n",
      "The sum is : 57\n"
     ]
    }
   ],
   "source": [
    "num1 = int(input(\"Enter first number:\"))\n",
    "num2 = int(input(\"Enter second number:\"))\n",
    "sum = num1 + num2;\n",
    "print(\"The sum is :\" , sum)\n",
    "\n"
   ]
  },
  {
   "cell_type": "code",
   "execution_count": null,
   "id": "3707e586",
   "metadata": {},
   "outputs": [],
   "source": []
  }
 ],
 "metadata": {
  "kernelspec": {
   "display_name": "Python 3 (ipykernel)",
   "language": "python",
   "name": "python3"
  },
  "language_info": {
   "codemirror_mode": {
    "name": "ipython",
    "version": 3
   },
   "file_extension": ".py",
   "mimetype": "text/x-python",
   "name": "python",
   "nbconvert_exporter": "python",
   "pygments_lexer": "ipython3",
   "version": "3.7.10"
  }
 },
 "nbformat": 4,
 "nbformat_minor": 5
}
